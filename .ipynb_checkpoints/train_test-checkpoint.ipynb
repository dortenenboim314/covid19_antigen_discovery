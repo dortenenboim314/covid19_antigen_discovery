{
 "cells": [
  {
   "cell_type": "code",
   "execution_count": 1,
   "metadata": {},
   "outputs": [
    {
     "name": "stdout",
     "output_type": "stream",
     "text": [
      "Using cpu device\n",
      "0.8911690863442856\n",
      "torch.Size([180])\n"
     ]
    }
   ],
   "source": [
    "%run model.ipynb\n",
    "%run DataLoader.ipynb"
   ]
  },
  {
   "cell_type": "code",
   "execution_count": 2,
   "metadata": {},
   "outputs": [
    {
     "name": "stdout",
     "output_type": "stream",
     "text": [
      "0.8911690863442856\n",
      "24734\n",
      "2749\n"
     ]
    }
   ],
   "source": [
    "import torch\n",
    "from torch.utils.data import DataLoader\n",
    "\n",
    "dataset = Covid19AntigenDataset()\n",
    "\n",
    "train_size = int(0.9 * dataset.__len__())\n",
    "test_size = dataset.__len__() - train_size\n",
    "print(train_size)\n",
    "print(test_size)\n",
    "\n",
    "train_set, test_set = torch.utils.data.random_split(dataset, [train_size, test_size])\n",
    "\n",
    "learning_rate = 1e-4\n",
    "batch_size = 8\n",
    "epochs = 20\n",
    "\n",
    "train_dataloader = DataLoader(train_set, batch_size=batch_size, shuffle=True)\n",
    "test_dataloader = DataLoader(test_set, batch_size=64, shuffle=True)\n",
    "\n",
    "model = NeuralNetwork(180)\n",
    "\n",
    "loss_weights = torch.FloatTensor([1.0]) \n",
    "loss_fn = nn.BCELoss()\n",
    "optimizer = torch.optim.SGD(model.parameters(), lr=learning_rate)\n"
   ]
  },
  {
   "cell_type": "code",
   "execution_count": 3,
   "metadata": {},
   "outputs": [],
   "source": [
    "def train_loop(dataloader, model, loss_fn, optimizer):\n",
    "    loop_loss = 0 \n",
    "    size = len(dataloader.dataset)\n",
    "    print(\"train size\")\n",
    "    print(size)\n",
    "    correct = 0\n",
    "    for batch, (X, y) in enumerate(dataloader):\n",
    "        # Compute prediction and loss\n",
    "        X = X.float()\n",
    "        y = y.float()\n",
    "        pred = model(X)\n",
    "    \n",
    "        loss = loss_fn(pred, y)\n",
    "\n",
    "        # Backpropagation\n",
    "        optimizer.zero_grad()\n",
    "        loss.backward()\n",
    "        optimizer.step()\n",
    "        loop_loss += loss.item()\n",
    "        correct += (pred.argmax(1) == y).type(torch.float).sum().item()\n",
    "\n",
    "#         if batch % 100 == 0:\n",
    "#             print(batch)\n",
    "#             loss, current = loss.item(), batch * len(X)\n",
    "#             print(f\"loss: {loss:>7f}  [{current:>5d}/{size:>5d}]\")\n",
    "    \n",
    "    correct /= size\n",
    "    loop_loss /= size\n",
    "    print(f\"Train Error: \\n Accuracy: {(100*correct):>0.1f}%, Avg loss: {loop_loss:>8f} \\n\")\n",
    "\n",
    "\n",
    "def test_loop(dataloader, model, loss_fn):\n",
    "    size = len(dataloader.dataset)\n",
    "    num_batches = len(dataloader)\n",
    "    test_loss, correct = 0, 0\n",
    "\n",
    "    with torch.no_grad():\n",
    "        for X, y in dataloader:\n",
    "            X = X.float()\n",
    "            y = y.float()\n",
    "            pred = model(X)\n",
    "            test_loss += loss_fn(pred, y).item()\n",
    "            correct += (pred.argmax(1) == y).type(torch.float).sum().item()\n",
    "\n",
    "    test_loss /= num_batches\n",
    "    correct /= size\n",
    "    print(f\"Test Error: \\n Accuracy: {(100*correct):>0.1f}%, Avg loss: {test_loss:>8f} \\n\")"
   ]
  },
  {
   "cell_type": "code",
   "execution_count": 4,
   "metadata": {},
   "outputs": [
    {
     "name": "stdout",
     "output_type": "stream",
     "text": [
      "Epoch 1\n",
      "-------------------------------\n",
      "train size\n",
      "24734\n"
     ]
    },
    {
     "name": "stderr",
     "output_type": "stream",
     "text": [
      "/Users/dort/opt/anaconda3/lib/python3.7/site-packages/torch/nn/modules/loss.py:529: UserWarning: Using a target size (torch.Size([8])) that is different to the input size (torch.Size([8, 1])) is deprecated. Please ensure they have the same size.\n",
      "  return F.binary_cross_entropy(input, target, weight=self.weight, reduction=self.reduction)\n",
      "/Users/dort/opt/anaconda3/lib/python3.7/site-packages/torch/nn/modules/loss.py:529: UserWarning: Using a target size (torch.Size([6])) that is different to the input size (torch.Size([6, 1])) is deprecated. Please ensure they have the same size.\n",
      "  return F.binary_cross_entropy(input, target, weight=self.weight, reduction=self.reduction)\n",
      "/Users/dort/opt/anaconda3/lib/python3.7/site-packages/torch/nn/modules/loss.py:529: UserWarning: Using a target size (torch.Size([64])) that is different to the input size (torch.Size([64, 1])) is deprecated. Please ensure they have the same size.\n",
      "  return F.binary_cross_entropy(input, target, weight=self.weight, reduction=self.reduction)\n",
      "/Users/dort/opt/anaconda3/lib/python3.7/site-packages/torch/nn/modules/loss.py:529: UserWarning: Using a target size (torch.Size([61])) that is different to the input size (torch.Size([61, 1])) is deprecated. Please ensure they have the same size.\n",
      "  return F.binary_cross_entropy(input, target, weight=self.weight, reduction=self.reduction)\n"
     ]
    },
    {
     "name": "stdout",
     "output_type": "stream",
     "text": [
      "Train Error: \n",
      " Accuracy: 89.0%, Avg loss: 0.081231 \n",
      "\n",
      "Test Error: \n",
      " Accuracy: 90.0%, Avg loss: 0.610517 \n",
      "\n",
      "Epoch 2\n",
      "-------------------------------\n",
      "train size\n",
      "24734\n",
      "Train Error: \n",
      " Accuracy: 89.0%, Avg loss: 0.072631 \n",
      "\n",
      "Test Error: \n",
      " Accuracy: 90.0%, Avg loss: 0.547468 \n",
      "\n",
      "Epoch 3\n",
      "-------------------------------\n",
      "train size\n",
      "24734\n",
      "Train Error: \n",
      " Accuracy: 89.0%, Avg loss: 0.065724 \n",
      "\n",
      "Test Error: \n",
      " Accuracy: 90.0%, Avg loss: 0.495997 \n",
      "\n",
      "Epoch 4\n",
      "-------------------------------\n",
      "train size\n",
      "24734\n",
      "Train Error: \n",
      " Accuracy: 89.0%, Avg loss: 0.060127 \n",
      "\n",
      "Test Error: \n",
      " Accuracy: 90.0%, Avg loss: 0.454306 \n",
      "\n",
      "Epoch 5\n",
      "-------------------------------\n",
      "train size\n",
      "24734\n",
      "Train Error: \n",
      " Accuracy: 89.0%, Avg loss: 0.055659 \n",
      "\n",
      "Test Error: \n",
      " Accuracy: 90.0%, Avg loss: 0.421032 \n",
      "\n",
      "Epoch 6\n",
      "-------------------------------\n",
      "train size\n",
      "24734\n",
      "Train Error: \n",
      " Accuracy: 89.0%, Avg loss: 0.052177 \n",
      "\n",
      "Test Error: \n",
      " Accuracy: 90.0%, Avg loss: 0.395332 \n",
      "\n",
      "Epoch 7\n",
      "-------------------------------\n",
      "train size\n",
      "24734\n",
      "Train Error: \n",
      " Accuracy: 89.0%, Avg loss: 0.049538 \n",
      "\n",
      "Test Error: \n",
      " Accuracy: 90.0%, Avg loss: 0.375776 \n",
      "\n",
      "Epoch 8\n",
      "-------------------------------\n",
      "train size\n",
      "24734\n",
      "Train Error: \n",
      " Accuracy: 89.0%, Avg loss: 0.047582 \n",
      "\n",
      "Test Error: \n",
      " Accuracy: 90.0%, Avg loss: 0.361183 \n",
      "\n",
      "Epoch 9\n",
      "-------------------------------\n",
      "train size\n",
      "24734\n",
      "Train Error: \n",
      " Accuracy: 89.0%, Avg loss: 0.046155 \n",
      "\n",
      "Test Error: \n",
      " Accuracy: 90.0%, Avg loss: 0.350484 \n",
      "\n",
      "Epoch 10\n",
      "-------------------------------\n",
      "train size\n",
      "24734\n",
      "Train Error: \n",
      " Accuracy: 89.0%, Avg loss: 0.045120 \n",
      "\n",
      "Test Error: \n",
      " Accuracy: 90.0%, Avg loss: 0.342386 \n",
      "\n",
      "Done!\n"
     ]
    }
   ],
   "source": [
    "epochs = 10\n",
    "for t in range(epochs):\n",
    "    print(f\"Epoch {t+1}\\n-------------------------------\")\n",
    "    train_loop(train_dataloader, model, loss_fn, optimizer)\n",
    "    test_loop(test_dataloader, model, loss_fn)\n",
    "print(\"Done!\")"
   ]
  },
  {
   "cell_type": "code",
   "execution_count": null,
   "metadata": {},
   "outputs": [],
   "source": []
  },
  {
   "cell_type": "code",
   "execution_count": null,
   "metadata": {},
   "outputs": [],
   "source": []
  }
 ],
 "metadata": {
  "kernelspec": {
   "display_name": "Python 3",
   "language": "python",
   "name": "python3"
  },
  "language_info": {
   "codemirror_mode": {
    "name": "ipython",
    "version": 3
   },
   "file_extension": ".py",
   "mimetype": "text/x-python",
   "name": "python",
   "nbconvert_exporter": "python",
   "pygments_lexer": "ipython3",
   "version": "3.7.6"
  }
 },
 "nbformat": 4,
 "nbformat_minor": 4
}
