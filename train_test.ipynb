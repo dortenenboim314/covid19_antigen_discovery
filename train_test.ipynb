{
 "cells": [
  {
   "cell_type": "code",
   "execution_count": 1,
   "metadata": {},
   "outputs": [
    {
     "name": "stdout",
     "output_type": "stream",
     "text": [
      "Using cpu device\n",
      "0.8911690863442856\n",
      "torch.Size([180])\n"
     ]
    }
   ],
   "source": [
    "%run model.ipynb\n",
    "%run Covid19AntigenDataset.ipynb"
   ]
  },
  {
   "cell_type": "code",
   "execution_count": 2,
   "metadata": {},
   "outputs": [
    {
     "name": "stdout",
     "output_type": "stream",
     "text": [
      "0.8911690863442856\n",
      "24734\n",
      "2749\n"
     ]
    }
   ],
   "source": [
    "import torch\n",
    "from torch.utils.data import DataLoader\n",
    "\n",
    "dataset = Covid19AntigenDataset()\n",
    "\n",
    "train_size = int(0.9 * dataset.__len__())\n",
    "test_size = dataset.__len__() - train_size\n",
    "print(train_size)\n",
    "print(test_size)\n",
    "\n",
    "train_set, test_set = torch.utils.data.random_split(dataset, [train_size, test_size])\n",
    "\n",
    "learning_rate = 1e-4\n",
    "train_batch_size = 8\n",
    "test_batch_size = 64\n",
    "epochs = 20\n",
    "\n",
    "train_dataloader = DataLoader(train_set, batch_size=train_batch_size, shuffle=True)\n",
    "test_dataloader = DataLoader(test_set, batch_size=test_batch_size, shuffle=True)\n",
    "\n",
    "model = NeuralNetwork(180)\n",
    "\n",
    "loss_fn = nn.BCELoss()\n",
    "optimizer = torch.optim.SGD(model.parameters(), lr=learning_rate)\n"
   ]
  },
  {
   "cell_type": "code",
   "execution_count": 3,
   "metadata": {},
   "outputs": [],
   "source": [
    "def train_loop(dataloader, model, loss_fn, optimizer):\n",
    "    loop_loss = 0 \n",
    "    size = len(dataloader.dataset)\n",
    "    correct = 0\n",
    "    print(size)\n",
    "    \n",
    "    for batch, (X, y) in enumerate(dataloader):\n",
    "        # Compute prediction and loss\n",
    "        X = X.float()\n",
    "        y = y.float()\n",
    "        pred = model(X)\n",
    "    \n",
    "        loss = loss_fn(pred, y)\n",
    "\n",
    "        # Backpropagation\n",
    "        optimizer.zero_grad()\n",
    "        loss.backward()\n",
    "        optimizer.step()\n",
    "        loop_loss += loss.item()\n",
    "        correct += (pred.argmax(1) == y).type(torch.float).sum().item()\n",
    "    \n",
    "    correct /= size\n",
    "    num_batches = len(dataloader)\n",
    "    loop_loss /= num_batches\n",
    "    print(f\"Train Error: \\n Accuracy: {(100*correct):>0.1f}%, Avg loss: {loop_loss:>8f} \\n\")\n",
    "    return (correct, loop_loss)\n",
    "\n",
    "\n",
    "def test_loop(dataloader, model, loss_fn):\n",
    "    size = len(dataloader.dataset)\n",
    "    num_batches = len(dataloader)\n",
    "    test_loss, correct = 0, 0\n",
    "\n",
    "    with torch.no_grad():\n",
    "        for X, y in dataloader:\n",
    "            X = X.float()\n",
    "            y = y.float()\n",
    "            pred = model(X)\n",
    "            test_loss += loss_fn(pred, y).item()\n",
    "            correct += (pred.argmax(1) == y).type(torch.float).sum().item()\n",
    "\n",
    "    test_loss /= num_batches\n",
    "    correct /= size\n",
    "    print(f\"Test Error: \\n Accuracy: {(100*correct):>0.1f}%, Avg loss: {test_loss:>8f} \\n\")\n",
    "    return (correct, test_loss)"
   ]
  },
  {
   "cell_type": "code",
   "execution_count": 4,
   "metadata": {},
   "outputs": [
    {
     "name": "stdout",
     "output_type": "stream",
     "text": [
      "Epoch 1\n",
      "-------------------------------\n",
      "24734\n"
     ]
    },
    {
     "name": "stderr",
     "output_type": "stream",
     "text": [
      "/Users/dort/opt/anaconda3/lib/python3.7/site-packages/torch/nn/modules/loss.py:529: UserWarning: Using a target size (torch.Size([8])) that is different to the input size (torch.Size([8, 1])) is deprecated. Please ensure they have the same size.\n",
      "  return F.binary_cross_entropy(input, target, weight=self.weight, reduction=self.reduction)\n",
      "/Users/dort/opt/anaconda3/lib/python3.7/site-packages/torch/nn/modules/loss.py:529: UserWarning: Using a target size (torch.Size([6])) that is different to the input size (torch.Size([6, 1])) is deprecated. Please ensure they have the same size.\n",
      "  return F.binary_cross_entropy(input, target, weight=self.weight, reduction=self.reduction)\n",
      "/Users/dort/opt/anaconda3/lib/python3.7/site-packages/torch/nn/modules/loss.py:529: UserWarning: Using a target size (torch.Size([64])) that is different to the input size (torch.Size([64, 1])) is deprecated. Please ensure they have the same size.\n",
      "  return F.binary_cross_entropy(input, target, weight=self.weight, reduction=self.reduction)\n",
      "/Users/dort/opt/anaconda3/lib/python3.7/site-packages/torch/nn/modules/loss.py:529: UserWarning: Using a target size (torch.Size([61])) that is different to the input size (torch.Size([61, 1])) is deprecated. Please ensure they have the same size.\n",
      "  return F.binary_cross_entropy(input, target, weight=self.weight, reduction=self.reduction)\n"
     ]
    },
    {
     "name": "stdout",
     "output_type": "stream",
     "text": [
      "Train Error: \n",
      " Accuracy: 89.1%, Avg loss: 0.640121 \n",
      "\n",
      "Test Error: \n",
      " Accuracy: 89.7%, Avg loss: 0.599841 \n",
      "\n",
      "Epoch 2\n",
      "-------------------------------\n",
      "24734\n",
      "Train Error: \n",
      " Accuracy: 89.1%, Avg loss: 0.568674 \n",
      "\n",
      "Test Error: \n",
      " Accuracy: 89.7%, Avg loss: 0.535394 \n",
      "\n",
      "Epoch 3\n",
      "-------------------------------\n",
      "24734\n",
      "Train Error: \n",
      " Accuracy: 89.1%, Avg loss: 0.512153 \n",
      "\n",
      "Test Error: \n",
      " Accuracy: 89.7%, Avg loss: 0.483870 \n",
      "\n",
      "Done!\n"
     ]
    }
   ],
   "source": [
    "epochs = 3\n",
    "test_losses, train_losses, test_accuracies, train_accuracies = [], [], [], []\n",
    "for t in range(epochs):\n",
    "    print(f\"Epoch {t+1}\\n-------------------------------\")\n",
    "    train_accuracy, train_loss = train_loop(train_dataloader, model, loss_fn, optimizer)\n",
    "    test_accuracy, test_loss = test_loop(test_dataloader, model, loss_fn)\n",
    "    \n",
    "    test_losses += [test_loss]\n",
    "    test_accuracies += [test_accuracy]\n",
    "    train_losses += [train_loss]\n",
    "    train_accuracies += [train_accuracy]\n",
    "\n",
    "print(\"Done!\")"
   ]
  },
  {
   "cell_type": "code",
   "execution_count": 10,
   "metadata": {},
   "outputs": [
    {
     "data": {
      "image/png": "[encoded data removed]",
      "text/plain": [
       "<Figure size 432x288 with 1 Axes>"
      ]
     },
     "metadata": {
      "needs_background": "light"
     },
     "output_type": "display_data"
    },
    {
     "data": {
      "image/png": "[encoded data removed]",
      "text/plain": [
       "<Figure size 432x288 with 1 Axes>"
      ]
     },
     "metadata": {
      "needs_background": "light"
     },
     "output_type": "display_data"
    }
   ],
   "source": [
    "import matplotlib.pyplot as plt\n",
    "fig = plt.figure()\n",
    "x = range(1, epochs +1)\n",
    "plt.plot(x, test_accuracies, label = \"test\")\n",
    "plt.plot(x, train_accuracies, label = \"train\")\n",
    "plt.ylabel('Average Accuracies')\n",
    "plt.xlabel('epoch')\n",
    "plt.legend()\n",
    "plt.show()\n",
    "fig.savefig('accuracies.png')\n",
    "\n",
    "fig = plt.figure()\n",
    "plt.plot(x, test_losses, label = \"test\")\n",
    "plt.plot(x, train_losses, label = \"train\")\n",
    "plt.ylabel('Average Losses')\n",
    "plt.xlabel('epoch')\n",
    "plt.legend()\n",
    "plt.show()\n",
    "fig.savefig('losses.png')"
   ]
  },
  {
   "cell_type": "code",
   "execution_count": null,
   "metadata": {},
   "outputs": [],
   "source": []
  }
 ],
 "metadata": {
  "kernelspec": {
   "display_name": "Python 3",
   "language": "python",
   "name": "python3"
  },
  "language_info": {
   "codemirror_mode": {
    "name": "ipython",
    "version": 3
   },
   "file_extension": ".py",
   "mimetype": "text/x-python",
   "name": "python",
   "nbconvert_exporter": "python",
   "pygments_lexer": "ipython3",
   "version": "3.7.6"
  }
 },
 "nbformat": 4,
 "nbformat_minor": 4
}
