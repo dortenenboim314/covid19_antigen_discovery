{
 "cells": [
  {
   "cell_type": "code",
   "execution_count": 1,
   "metadata": {},
   "outputs": [],
   "source": [
    "import os\n",
    "import torch\n",
    "import pandas as pd\n",
    "import numpy as np\n",
    "from torch.utils.data import Dataset, DataLoader\n",
    "import copy\n",
    "\n",
    "class Covid19AntigenDataset(Dataset):\n",
    "    def __init__(self, neg_path = \"data/neg.txt\", pos_path = \"data/pos.txt\"):\n",
    "        \"\"\"\n",
    "        Args:\n",
    "            csv_file (string): Path to the csv file with annotations.\n",
    "            root_dir (string): Directory with all the images.\n",
    "            transform (callable, optional): Optional transform to be applied\n",
    "                on a sample.\n",
    "        \"\"\"\n",
    "        self.amino_dict = {'A': 0, 'C': 1, 'D': 2, 'E': 3, 'F': 4, 'G': 5, 'H': 6, 'I': 7, 'K': 8, 'L': 9, \n",
    "                          'M': 10, 'N': 11, 'P': 12, 'Q': 13, 'R': 14, 'S': 15, 'T': 16, 'V': 17, 'W': 18, 'Y': 19}\n",
    "        neg = []\n",
    "        pos = []\n",
    "        with open(neg_path) as f:\n",
    "            neg = f.read().splitlines()\n",
    "        with open(pos_path) as f:\n",
    "            pos = f.read().splitlines()\n",
    "        \n",
    "        pos = [[pos[i],1] for i in range(len(pos))]\n",
    "        neg = [[neg[i],0] for i in range(len(neg))]\n",
    "        print(len(neg)/(len(neg) + len(pos)))\n",
    "        self.data = pos + neg         \n",
    "\n",
    "    def __len__(self):\n",
    "        return len(self.data)\n",
    "\n",
    "    def __getitem__(self, idx):     \n",
    "        sample = [self.data[idx][0][:], self.data[idx][1]]\n",
    "        sample[0] = self.transform(sample[0])\n",
    "        sample[0] = sample[0].type(torch.LongTensor)\n",
    "        sample[1] = sample[1]\n",
    "#         sample[1] = torch.Tensor([float(sample[1])])\n",
    "\n",
    "        return (sample[0],sample[1])\n",
    "    \n",
    "    \n",
    "    def transform(self, peptyde):\n",
    "        pep_vec = []\n",
    "        for amino in peptyde:\n",
    "            one_hot = self.to_one_hot(amino)\n",
    "            pep_vec += one_hot\n",
    "        \n",
    "        pep_vec = torch.Tensor(pep_vec)\n",
    "        return pep_vec\n",
    "            \n",
    "    \n",
    "    def to_one_hot(self, amino):\n",
    "        index = 0\n",
    "        index = self.amino_dict[amino]\n",
    "        one_hot = [0]* len(self.amino_dict)\n",
    "        one_hot[index] = 1\n",
    "        return one_hot\n",
    "        \n"
   ]
  },
  {
   "cell_type": "code",
   "execution_count": 2,
   "metadata": {},
   "outputs": [
    {
     "name": "stdout",
     "output_type": "stream",
     "text": [
      "deep copy start\n",
      "deep copy end\n",
      "torch.Size([180])\n"
     ]
    }
   ],
   "source": [
    "x = Covid19AntigenDataset()\n",
    "y = x.__getitem__(5)\n",
    "print(y[0].shape)"
   ]
  },
  {
   "cell_type": "code",
   "execution_count": null,
   "metadata": {},
   "outputs": [],
   "source": []
  }
 ],
 "metadata": {
  "kernelspec": {
   "display_name": "Python 3",
   "language": "python",
   "name": "python3"
  },
  "language_info": {
   "codemirror_mode": {
    "name": "ipython",
    "version": 3
   },
   "file_extension": ".py",
   "mimetype": "text/x-python",
   "name": "python",
   "nbconvert_exporter": "python",
   "pygments_lexer": "ipython3",
   "version": "3.7.6"
  }
 },
 "nbformat": 4,
 "nbformat_minor": 4
}
